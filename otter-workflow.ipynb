{
 "cells": [
  {
   "cell_type": "markdown",
   "id": "cace8389-3403-4b88-b2c1-4cfaccd7ed0a",
   "metadata": {},
   "source": [
    "# Running `otter assign`  <img src=\"https://otter-grader.readthedocs.io/en/v4.4.1/_static/otter-logo-smallest.png\" style=\"display:inline;align:right;width:30px;height:30px\" />"
   ]
  },
  {
   "cell_type": "markdown",
   "id": "170d7aac-d9b2-434a-96ea-fcb90893c4a0",
   "metadata": {},
   "source": [
    "<div class=\"alert alert-block alert-info\">\n",
    "\n",
    "This notebooks is meant to facilitate the execution of otter assign to generate student and solution notebooks:\n",
    "    \n",
    "- Determine your path to the otter-configured notebook\n",
    "- Add the path to the `otter assign` statement\n",
    "- Execute the `otter assign` cell\n",
    "\n",
    "Instructions for the last two steps are provided in documentation and screen recordings:\n",
    "- Copy the notebooks to the correct place(Your Computer, Github)\n",
    "- Create nbgitpuller links\n",
    "\n",
    "</div>"
   ]
  },
  {
   "cell_type": "markdown",
   "id": "5d7038f0-615a-44f2-a217-07d0a16776d3",
   "metadata": {},
   "source": [
    "## Path"
   ]
  },
  {
   "cell_type": "markdown",
   "id": "bd48f346-1b32-4d37-b76a-d5c87ca61d3c",
   "metadata": {},
   "source": [
    "<div class=\"alert alert-block alert-success\">\n",
    "    \n",
    "Run the commands:\n",
    "- %pwd\n",
    "- %ls -la\n",
    "\n",
    "Are the notebook and data files needed for the notebook in this directory? Be aware of the path for the next step.\n",
    "\n",
    "</div>"
   ]
  },
  {
   "cell_type": "code",
   "execution_count": null,
   "id": "4a12c472-474c-4861-a68c-4fe2db8a8929",
   "metadata": {},
   "outputs": [],
   "source": [
    "%pwd"
   ]
  },
  {
   "cell_type": "code",
   "execution_count": null,
   "id": "1b6803b4-5372-4a31-9043-951010eab0f6",
   "metadata": {},
   "outputs": [],
   "source": [
    "%ls -la"
   ]
  },
  {
   "cell_type": "markdown",
   "id": "5a5e9da5-1a24-432c-935a-eeb7ed4a2877",
   "metadata": {},
   "source": [
    "## Run Otter Assign to generate Student and Solution files\n",
    "\n",
    "<div class=\"alert alert-block alert-info\">\n",
    "\n",
    "- Replace the path name with the name of the raw notebook you created in the cell below\n",
    "- The path `./hw-demo-otter` is where all the output from otter assign is created.\n",
    "\n",
    "</div>"
   ]
  },
  {
   "cell_type": "code",
   "execution_count": null,
   "id": "0d293dcf-590c-4811-bf69-f77723aff541",
   "metadata": {
    "scrolled": true
   },
   "outputs": [],
   "source": [
    "!otter assign -v [your_noteook_path].ipynb ./hw-demo-otter"
   ]
  },
  {
   "cell_type": "markdown",
   "id": "8bf3b46f-ce9e-4f50-8ae8-046b51877057",
   "metadata": {},
   "source": [
    "## Checking the output\n",
    "\n",
    "<div class=\"alert alert-block alert-success\">\n",
    "\n",
    "The output from the `otter assign` command is found in the folder, ./hw-demo-otter. You can open the folder in the folder view to the left(if you are in Jupyter lab).\n",
    "\n",
    "There are two folders to note:\n",
    "- **autograder** -- this contains the solution notebook and autograder-[timestamp].zip file. The .zip file is used to automatically grade notebooks submitted by students.\n",
    "- **student** -- this contains the student notebook and data files that are distrbuted to students.\n",
    "\n",
    "The cells below can used to confirm the files that are generated where you expect but you can also use the Folder View to the left.\n",
    "</div>"
   ]
  },
  {
   "cell_type": "code",
   "execution_count": null,
   "id": "b88196a4",
   "metadata": {},
   "outputs": [],
   "source": [
    "print(\"Current Directory and list contents\")\n",
    "%pwd\n",
    "%ls -la"
   ]
  },
  {
   "cell_type": "code",
   "execution_count": null,
   "id": "43a0c0ce",
   "metadata": {},
   "outputs": [],
   "source": [
    "print(\"Change Directory to otter assign output directory and list contents\")\n",
    "%cd hw-demo-otter\n",
    "%ls -la"
   ]
  },
  {
   "cell_type": "code",
   "execution_count": null,
   "id": "d33157fe",
   "metadata": {},
   "outputs": [],
   "source": [
    "print(\"Change Directory to student directory and list contents\")\n",
    "%cd student\n",
    "%ls -la"
   ]
  },
  {
   "cell_type": "code",
   "execution_count": null,
   "id": "78c84018",
   "metadata": {},
   "outputs": [],
   "source": [
    "print(\"Go up one directory to output directory and list contents again\")\n",
    "%cd ..\n",
    "%ls -la"
   ]
  },
  {
   "cell_type": "code",
   "execution_count": null,
   "id": "773d3497",
   "metadata": {},
   "outputs": [],
   "source": [
    "print(\"Change Directory to autograder directory and list contents\")\n",
    "%cd autograder\n",
    "%ls -la"
   ]
  },
  {
   "cell_type": "code",
   "execution_count": null,
   "id": "cc417566",
   "metadata": {},
   "outputs": [],
   "source": [
    "print(\"Go up two(!) directories and list contents\")\n",
    "%cd ../..\n",
    "%ls -la"
   ]
  },
  {
   "cell_type": "markdown",
   "id": "e5ff4c92-c0f9-4e91-890a-f4f52261410d",
   "metadata": {},
   "source": [
    "## Student Notebook"
   ]
  },
  {
   "cell_type": "markdown",
   "id": "1aad297a-4070-4983-9719-9e4389e45791",
   "metadata": {},
   "source": [
    "<div class=\"alert alert-block alert-success\">\n",
    "\n",
    "Open the Student Notebook(.ipynb) in the **student** folder, and notice that whereever we put \"# Solution\", otter grader has replaced it with a prompt(\"...\") to indicate to the student they need to complete this line or chunk of code\n",
    "\n",
    "</div>"
   ]
  },
  {
   "cell_type": "markdown",
   "id": "85910ba5-c6d4-486e-a155-c74bff5225b1",
   "metadata": {},
   "source": [
    "## Instructor Notebook"
   ]
  },
  {
   "cell_type": "markdown",
   "id": "ab8fb0d8-1fc7-4594-88e4-1350280b580a",
   "metadata": {},
   "source": [
    "<div class=\"alert alert-block alert-success\">\n",
    "\n",
    "The notebook(.ipynb) in the **autograder** folder is stripped of all the raw notebook config and left with the solutions intact.\n",
    "\n",
    "</div>"
   ]
  },
  {
   "cell_type": "markdown",
   "id": "3c176d74-27ac-4fa6-88ae-256fd39e55a9",
   "metadata": {},
   "source": [
    "# Distributing Your Notebooks"
   ]
  },
  {
   "cell_type": "markdown",
   "id": "33b17e0d-927b-4eee-8e42-f0f87d4cb139",
   "metadata": {},
   "source": [
    "<div class=\"alert alert-block alert-success\">\n",
    "    \n",
    "We have put together a series of screen recordings that explain in detail how and where you might place both the student and instructor notebooks and create links(nbgitpuller links) that allow students to open a student notebook in JupyterHub.\n",
    "\n",
    "- Put the folder containing the student notebook and all the data files into a GitHub Repository [Instructions](https://ds-modules.github.io/curriculum-guide/workflow/pushing-to-github.html)\n",
    "- Create an NbGitPullerLink ([Instructions](https://ds-modules.github.io/curriculum-guide/workflow/distributing-notebooks.html) and Screen Recording in [Part 3](https://www.data8.org/zero-to-data-8/authoring/authoring_screen_recordings.html))\n",
    "</div>"
   ]
  }
 ],
 "metadata": {
  "kernelspec": {
   "display_name": "Python 3 (ipykernel)",
   "language": "python",
   "name": "python3"
  },
  "language_info": {
   "codemirror_mode": {
    "name": "ipython",
    "version": 3
   },
   "file_extension": ".py",
   "mimetype": "text/x-python",
   "name": "python",
   "nbconvert_exporter": "python",
   "pygments_lexer": "ipython3",
   "version": "3.10.11"
  }
 },
 "nbformat": 4,
 "nbformat_minor": 5
}
