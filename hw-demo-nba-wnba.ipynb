{
 "cells": [
  {
   "cell_type": "raw",
   "id": "7c30d131-6b19-4174-ab61-f8faff3f09d1",
   "metadata": {
    "vscode": {
     "languageId": "raw"
    }
   },
   "source": [
    "# ASSIGNMENT CONFIG\n",
    "init_cell: true \n",
    "export_cell: true \n",
    "export_cell:\n",
    "    pdf: false\n",
    "    force_save: false\n",
    "files:\n",
    "    - player_data_nba_2024.csv\n",
    "    - salary_data_nba_2024.csv\n"
   ]
  },
  {
   "cell_type": "code",
   "execution_count": 3,
   "id": "526f6b60-2b18-4014-8b1a-eb3bdc5141c8",
   "metadata": {},
   "outputs": [],
   "source": [
    "from datascience import *"
   ]
  },
  {
   "cell_type": "markdown",
   "id": "69e7dc9d-d8b3-48a2-9e61-4c1235e7d6a1",
   "metadata": {},
   "source": [
    "## HW Demo: WNBA and NBA Player Data: Exploring Datasets"
   ]
  },
  {
   "cell_type": "markdown",
   "id": "3cf96f86-b7fe-4512-b10c-8a616a1de6d7",
   "metadata": {},
   "source": [
    "<div class=\"alert alert-block alert-info\">\n",
    "\n",
    "The first step in creating an autograded assignment is to include the \"Assignment Config\" above.\n",
    "\n",
    "The slides associated with the presentation provide a link to more details and options.\n",
    "\n",
    "In order to add a question, we need to include the following:\n",
    "- MarkDown Cell: Context and Instructions\n",
    "- Raw Cell: Otter-Grader Question Fig\n",
    "- Code Cell: Code to be completes and the SOLUTION marked with a comment\n",
    "- Raw and Code Cells: Defining the tests to be run\n",
    "\n",
    "\n",
    "</div>"
   ]
  },
  {
   "cell_type": "raw",
   "id": "5b20f554-6508-4c6d-a147-9d06780908a0",
   "metadata": {},
   "source": [
    "# BEGIN QUESTION\n",
    "name: q1_1\n",
    "manual: false\n",
    "points:\n",
    " - 0\n",
    " - 0\n",
    " - 2"
   ]
  },
  {
   "cell_type": "code",
   "execution_count": 11,
   "id": "63a1de3e-9ab4-47a9-bfc7-9ea89d15d999",
   "metadata": {},
   "outputs": [],
   "source": [
    "nba_player_data_2024 = Table.read_table(\"player_data_nba_2024.csv\")\n",
    "wnba_player_data_2024 = Table.read_table(\"https://github.com/ucb-ds/demo-datasets/raw/main/wnba_data.csv\")"
   ]
  },
  {
   "cell_type": "markdown",
   "id": "2a956cce-0ae4-4e7c-bfec-360f26e986f3",
   "metadata": {},
   "source": [
    "<div class=\"alert alert-block alert-success\">\n",
    "\n",
    "**Question 1.1 (2 points)** \n",
    "\n",
    "We are loading the WNBA and NBA player datasets in the previous cell.\n",
    "\n",
    "- Compute and display the difference in the number of rows between the datasets\n",
    "\n",
    "</div>\n"
   ]
  },
  {
   "cell_type": "raw",
   "id": "a2103a61-85a7-4990-9364-9ab9ee727f75",
   "metadata": {},
   "source": [
    "# BEGIN SOLUTION"
   ]
  },
  {
   "cell_type": "code",
   "execution_count": 23,
   "id": "faef451c-e9a8-4373-ba8a-6bd89e4be8df",
   "metadata": {},
   "outputs": [
    {
     "data": {
      "text/plain": [
       "416"
      ]
     },
     "execution_count": 23,
     "metadata": {},
     "output_type": "execute_result"
    }
   ],
   "source": [
    "player_diff = nba_player_data_2024.num_rows - wnba_player_data_2024.num_rows # SOLUTION\n",
    "player_diff"
   ]
  },
  {
   "cell_type": "raw",
   "id": "4a57b5c1-4c2f-4e68-abf6-3604ef0101ae",
   "metadata": {},
   "source": [
    "# END SOLUTION"
   ]
  },
  {
   "cell_type": "raw",
   "id": "820f13ee-fcd6-4061-82a5-0e7fb2afa54a",
   "metadata": {},
   "source": [
    "# BEGIN TESTS"
   ]
  },
  {
   "cell_type": "code",
   "execution_count": 24,
   "id": "ecae29e4-ad1a-41e3-8403-26f767773e13",
   "metadata": {},
   "outputs": [
    {
     "data": {
      "text/plain": [
       "True"
      ]
     },
     "execution_count": 24,
     "metadata": {},
     "output_type": "execute_result"
    }
   ],
   "source": [
    "400 < player_diff < 500"
   ]
  },
  {
   "cell_type": "code",
   "execution_count": 25,
   "id": "76487749-5344-4b75-9b73-2f0f2d864552",
   "metadata": {},
   "outputs": [
    {
     "data": {
      "text/plain": [
       "True"
      ]
     },
     "execution_count": 25,
     "metadata": {},
     "output_type": "execute_result"
    }
   ],
   "source": [
    "player_diff > 0"
   ]
  },
  {
   "cell_type": "code",
   "execution_count": 26,
   "id": "2a57f995-0eb7-4d58-b4c9-583e0c9b9d54",
   "metadata": {},
   "outputs": [
    {
     "data": {
      "text/plain": [
       "True"
      ]
     },
     "execution_count": 26,
     "metadata": {},
     "output_type": "execute_result"
    }
   ],
   "source": [
    "# HIDDEN\n",
    "player_diff == 416"
   ]
  },
  {
   "cell_type": "raw",
   "id": "800e2950-e6cb-4401-8194-e0ff4a1aa3fe",
   "metadata": {},
   "source": [
    "# END TESTS"
   ]
  }
 ],
 "metadata": {
  "kernelspec": {
   "display_name": "Python 3 (ipykernel)",
   "language": "python",
   "name": "python3"
  },
  "language_info": {
   "codemirror_mode": {
    "name": "ipython",
    "version": 3
   },
   "file_extension": ".py",
   "mimetype": "text/x-python",
   "name": "python",
   "nbconvert_exporter": "python",
   "pygments_lexer": "ipython3",
   "version": "3.10.11"
  }
 },
 "nbformat": 4,
 "nbformat_minor": 5
}
